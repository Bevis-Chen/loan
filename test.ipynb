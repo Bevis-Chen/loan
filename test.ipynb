{
 "cells": [
  {
   "cell_type": "code",
   "execution_count": null,
   "metadata": {},
   "outputs": [],
   "source": [
    "import random"
   ]
  },
  {
   "cell_type": "code",
   "execution_count": 12,
   "metadata": {},
   "outputs": [],
   "source": [
    "loanAmount= 100000\n",
    "interestRate= 10\n",
    "loanYear= 3\n",
    "proid= loanYear*12"
   ]
  },
  {
   "attachments": {},
   "cell_type": "markdown",
   "metadata": {},
   "source": [
    "本金攤還"
   ]
  },
  {
   "cell_type": "code",
   "execution_count": 13,
   "metadata": {},
   "outputs": [
    {
     "data": {
      "text/plain": [
       "2777"
      ]
     },
     "execution_count": 13,
     "metadata": {},
     "output_type": "execute_result"
    }
   ],
   "source": [
    "mountReplacement= int(loanAmount/proid)\n",
    "mountReplacement"
   ]
  },
  {
   "attachments": {},
   "cell_type": "markdown",
   "metadata": {},
   "source": [
    "每個月償還利息(遞減)\n",
    "    = 貸款餘額*(月利率) "
   ]
  },
  {
   "cell_type": "code",
   "execution_count": 23,
   "metadata": {},
   "outputs": [
    {
     "data": {
      "text/plain": [
       "833"
      ]
     },
     "execution_count": 23,
     "metadata": {},
     "output_type": "execute_result"
    }
   ],
   "source": [
    "interest= round(loanAmount*(interestRate/100/12))\n",
    "interest"
   ]
  },
  {
   "cell_type": "code",
   "execution_count": 65,
   "metadata": {},
   "outputs": [
    {
     "name": "stdout",
     "output_type": "stream",
     "text": [
      "第 1個月 本金 2777元 月利息 833元 本利和 3610元 貸款餘額 97223元\n",
      "第 2個月 本金 2777元 月利息 810元 本利和 3587元 貸款餘額 94446元\n",
      "第 3個月 本金 2777元 月利息 787元 本利和 3564元 貸款餘額 91669元\n",
      "第 4個月 本金 2777元 月利息 764元 本利和 3541元 貸款餘額 88892元\n",
      "第 5個月 本金 2777元 月利息 741元 本利和 3518元 貸款餘額 86115元\n",
      "第 6個月 本金 2777元 月利息 718元 本利和 3495元 貸款餘額 83338元\n",
      "第 7個月 本金 2777元 月利息 694元 本利和 3471元 貸款餘額 80561元\n",
      "第 8個月 本金 2777元 月利息 671元 本利和 3448元 貸款餘額 77784元\n",
      "第 9個月 本金 2777元 月利息 648元 本利和 3425元 貸款餘額 75007元\n",
      "第10個月 本金 2777元 月利息 625元 本利和 3402元 貸款餘額 72230元\n",
      "第11個月 本金 2777元 月利息 602元 本利和 3379元 貸款餘額 69453元\n",
      "第12個月 本金 2777元 月利息 579元 本利和 3356元 貸款餘額 66676元\n",
      "第13個月 本金 2777元 月利息 556元 本利和 3333元 貸款餘額 63899元\n",
      "第14個月 本金 2777元 月利息 532元 本利和 3309元 貸款餘額 61122元\n",
      "第15個月 本金 2777元 月利息 509元 本利和 3286元 貸款餘額 58345元\n",
      "第16個月 本金 2777元 月利息 486元 本利和 3263元 貸款餘額 55568元\n",
      "第17個月 本金 2777元 月利息 463元 本利和 3240元 貸款餘額 52791元\n",
      "第18個月 本金 2777元 月利息 440元 本利和 3217元 貸款餘額 50014元\n",
      "第19個月 本金 2777元 月利息 417元 本利和 3194元 貸款餘額 47237元\n",
      "第20個月 本金 2777元 月利息 394元 本利和 3171元 貸款餘額 44460元\n",
      "第21個月 本金 2777元 月利息 370元 本利和 3147元 貸款餘額 41683元\n",
      "第22個月 本金 2777元 月利息 347元 本利和 3124元 貸款餘額 38906元\n",
      "第23個月 本金 2777元 月利息 324元 本利和 3101元 貸款餘額 36129元\n",
      "第24個月 本金 2777元 月利息 301元 本利和 3078元 貸款餘額 33352元\n",
      "第25個月 本金 2777元 月利息 278元 本利和 3055元 貸款餘額 30575元\n",
      "第26個月 本金 2777元 月利息 255元 本利和 3032元 貸款餘額 27798元\n",
      "第27個月 本金 2777元 月利息 232元 本利和 3009元 貸款餘額 25021元\n",
      "第28個月 本金 2777元 月利息 209元 本利和 2986元 貸款餘額 22244元\n",
      "第29個月 本金 2777元 月利息 185元 本利和 2962元 貸款餘額 19467元\n",
      "第30個月 本金 2777元 月利息 162元 本利和 2939元 貸款餘額 16690元\n",
      "第31個月 本金 2777元 月利息 139元 本利和 2916元 貸款餘額 13913元\n",
      "第32個月 本金 2777元 月利息 116元 本利和 2893元 貸款餘額 11136元\n",
      "第33個月 本金 2777元 月利息 93元 本利和 2870元 貸款餘額 8359元\n",
      "第34個月 本金 2777元 月利息 70元 本利和 2847元 貸款餘額 5582元\n",
      "第35個月 本金 2777元 月利息 47元 本利和 2824元 貸款餘額 2805元\n",
      "第36個月 2805元\n"
     ]
    }
   ],
   "source": [
    "loanAmount =100000\n",
    "\n",
    "for i in range(36):\n",
    "    if i==35:\n",
    "        endmount= 100000-(35*mountReplacement)\n",
    "        print(\"第{:>2}個月 {}元\".format(i+1, endmount))\n",
    "    else:\n",
    "        interest= round(loanAmount*(interestRate/100/12)) \n",
    "        restamount= (mountReplacement+interest)\n",
    "        print(\"第{:>2}個月 本金 {}元 月利息 {}元 本利和 {}元 貸款餘額 {}元\".format(i+1, mountReplacement, interest, mountReplacement+interest, \\\n",
    "                                                                loanAmount-(mountReplacement)))               \n",
    "        loanAmount-= mountReplacement\n",
    "       \n",
    "    "
   ]
  },
  {
   "cell_type": "code",
   "execution_count": null,
   "metadata": {},
   "outputs": [],
   "source": []
  },
  {
   "cell_type": "code",
   "execution_count": null,
   "metadata": {},
   "outputs": [],
   "source": []
  },
  {
   "cell_type": "code",
   "execution_count": null,
   "metadata": {},
   "outputs": [],
   "source": []
  },
  {
   "cell_type": "code",
   "execution_count": null,
   "metadata": {},
   "outputs": [],
   "source": []
  },
  {
   "cell_type": "code",
   "execution_count": null,
   "metadata": {},
   "outputs": [],
   "source": []
  }
 ],
 "metadata": {
  "kernelspec": {
   "display_name": "base",
   "language": "python",
   "name": "python3"
  },
  "language_info": {
   "codemirror_mode": {
    "name": "ipython",
    "version": 3
   },
   "file_extension": ".py",
   "mimetype": "text/x-python",
   "name": "python",
   "nbconvert_exporter": "python",
   "pygments_lexer": "ipython3",
   "version": "3.10.9"
  },
  "orig_nbformat": 4
 },
 "nbformat": 4,
 "nbformat_minor": 2
}
